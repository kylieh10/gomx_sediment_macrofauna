{
  "cells": [
    {
      "cell_type": "raw",
      "metadata": {},
      "source": [
        "---\n",
        "title: \"An elegant guide to mobilizing data to OBIS & GBIF for the discerning member of the Demopoulos lab\"\n",
        "editor: visual\n",
        "css: styles.css\n",
        "---"
      ],
      "id": "44d8c22c"
    },
    {
      "cell_type": "markdown",
      "metadata": {},
      "source": [
        "### *Sediment macrofaunal composition, sediment grain size, and taxa functional traits of multiple deep-sea coral habitats in the Gulf of Mexico, 2009-2014* {.center}\n",
        "\n",
        "\n",
        "```{css, echo = FALSE}\n",
        "body {\n",
        "  text-align: center;\n",
        "}\n",
        "```\n",
        "\n",
        "\n",
        "Collected by Dr. Amanda Demopoulos and Dr. Jill Bourque\n",
        "\n",
        "DOI: https://doi.org/10.5066/F7TH8KXD {.test}\n",
        "\n",
        "#### The purpose of this notebook is to build a knowledge base to continue mobilizing similar data in the future. {.center}"
      ],
      "id": "4a66654e"
    }
  ],
  "metadata": {
    "kernelspec": {
      "display_name": "Python 3",
      "language": "python",
      "name": "python3"
    }
  },
  "nbformat": 4,
  "nbformat_minor": 5
}